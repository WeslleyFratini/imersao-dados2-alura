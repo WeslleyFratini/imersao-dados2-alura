provas_entrada = ["NU_NOTA_CH","NU_NOTA_LC","NU_NOTA_CN","NU_NOTA_REDACAO"]
prova_saida = "NU_NOTA_MT"

notas_entrada = dados_sem_nota_zero[provas_entrada]
notas_saida = dados_sem_nota_zero[prova_saida]

notas_entrada

x = notas_entrada
y= notas_saida

from sklearn.model_selection import train_test_split

train_test_split(x, y)

from sklearn.model_selection import train_test_split

x_treino, x_teste, y_treino, y_teste = train_test_split(x, y, test_size = 0.25)

x_treino.head()

from sklearn.model_selection import train_test_split

SEED = 4321

x_treino, x_teste, y_treino, y_teste = train_test_split(x, y, test_size = 0.25, random_state=SEED)

len(y_treino)

provas_entrada = ["NU_NOTA_CH","NU_NOTA_LC","NU_NOTA_CN","NU_NOTA_REDACAO"]
prova_saida = "NU_NOTA_MT"
dados_sem_nota_zero = dados_sem_nota_zero[provas].dropna()

notas_entrada = dados_sem_nota_zero[provas_entrada]
notas_saida = dados_sem_nota_zero[prova_saida]

from sklearn.svm import LinearSVR

modelo = LinearSVR(random_state = SEED)
modelo.fit(x_treino, y_treino)

modelo.predict(x_teste)

y_teste[: 5]

predicoes_matematica = modelo.predict(x_teste)

sns.scatterplot(x=predicoes_matematica, y =y_teste)

plt.figure(figsize=(10,10))
sns.scatterplot(x=predicoes_matematica, y =y_teste)
plt.xlim((-50,1050))
plt.ylim((-50,1050))

plt.figure(figsize=(10,10))
sns.scatterplot(x=y_teste, y =y_teste - predicoes_matematica)
plt.xlim((-50,1050))
plt.ylim((-50,1050))

plt.figure(figsize=(10,10))
sns.scatterplot(x=y_teste, y =y_teste - x_teste.mean(axis=1))

plt.figure(figsize=(10,10))
sns.scatterplot(x=y_teste, y=x_teste.mean(axis=1))
plt.xlim((-50,1050))
plt.ylim((-50,1050))

resultados = pd.DataFrame()
resultados["Real"] = y_teste
resultados["Previsao"] = predicoes_matematica
resultados["diferenca"] = resultados["Real"] - resultados["Previsao"]

resultados

resultados = pd.DataFrame()
resultados["Real"] = y_teste
resultados["Previsao"] = predicoes_matematica
resultados["diferenca"] = resultados["Real"] - resultados["Previsao"]
resultados["quadrado_diferenca"] = (resultados["Real"] - resultados["Previsao"])**2

resultado

resultados["quadrado_diferenca"].mean()

resultados["quadrado_diferenca"].mean()**(1/2)

from sklearn.dummy import DummyRegressor

modelo_dummy = DummyRegressor()
modelo_dummy.fit(x_treino, y_treino)
dummy_predicoes = modelo_dummy.predict(x_teste)

from sklearn.metrics import mean_squared_error
mean_squared_error(y_teste, dummy_predicoes)

mean_squared_error(y_teste, predicoes_matematica)











































