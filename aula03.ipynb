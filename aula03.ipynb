dados_sem_nota_zero = dados.query("NU_NOTA_TOTAL != 0")
dados_sem_nota_zero.head()

sns.histplot(dados_sem_nota_zero, x = "NU_NOTA_TOTAL")

plt.figure(figsize=(12,8))
sns.histplot(dados_sem_nota_zero, x = "NU_NOTA_TOTAL", hue="Q025")

plt.figure(figsize=(12,8))
sns.histplot(dados_sem_nota_zero, x = "NU_NOTA_TOTAL", hue="Q025", kde=True)

plt.figure(figsize=(12,8))
sns.histplot(dados_sem_nota_zero, x = "NU_NOTA_TOTAL", hue="Q025", kde=True, stat="density")


plt.figure(figsize=(12,8))
sns.histplot(dados_sem_nota_zero, x = "NU_NOTA_TOTAL", hue="Q025", kde=True, stat="probability")

plt.figure(figsize=(12,8))
sns.histplot(dados_sem_nota_zero, x = "NU_NOTA_TOTAL", hue="Q025", kde=True, stat="probability")

sns.scatterplot(data = dados_sem_nota_zero, x="NU_NOTA_MT", y="NU_NOTA_LC")

plt.figure(figsize=(10,10))
sns.scatterplot(data = dados_sem_nota_zero, x="NU_NOTA_MT", y="NU_NOTA_LC")

plt.figure(figsize=(10,10))
sns.scatterplot(data = dados_sem_nota_zero, x="NU_NOTA_MT", y="NU_NOTA_LC")
plt.xlim((-50,1050))
plt.ylim((-50,1050))

sns.pairplot(dados_sem_nota_zero[provas])

plt.figure(figsize=(10,10))
sns.scatterplot(data = dados_sem_nota_zero, x="NU_NOTA_MT", y="NU_NOTA_LC", hue= "Q025")
plt.xlim((-50,1050))
plt.ylim((-50,1050))

correlacao = dados_sem_nota_zero[provas].corr()
correlacao

sns.heatmap(correlacao, cmap="Blues")

sns.heatmap(correlacao, cmap="Blues", center=0, annot=True) 