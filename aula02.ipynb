import pandas as pd
fonte = "https://github.com/alura-cursos/imersao-dados-2-2020/blob/master/MICRODADOS_ENEM_2019_SAMPLE_43278.csv?raw=true"

dados = pd.read_csv(fonte)

dados.query("NU_IDADE == 13")

dados.query("NU_IDADE <= 14")

dados.query("NU_IDADE <= 14")["SG_UF_RESIDENCIA"].value_counts()

dados.query("NU_IDADE <= 14")["SG_UF_RESIDENCIA"].value_counts(normalize=True)

alunos_menor_quartoze = dados.query("NU_IDADE <= 14")
alunos_menor_quartoze["SG_UF_RESIDENCIA"].value_counts().plot.pie(figsize=(10,8))

alunos_menor_quartoze["SG_UF_RESIDENCIA"].value_counts().plot.pie(figsize=(10,8))

import seaborn as sns
import matplotlib.pyplot as plt

plt.figure(figsize=(10,8))
sns.boxplot(x="Q006", y="NU_NOTA_MT", data = dados)
plt.title("Boxplot das notas de matematica pela renda")

renda_ordenada = dados["Q006"].unique()
renda_ordenada.sort()

renda_ordenada

plt.figure(figsize=(10,8))
sns.boxplot(x="Q006", y="NU_NOTA_MT", data = dados, order = renda_ordenada)
plt.title("Boxplot das notas de matematica pela renda")

provas = ["NU_NOTA_CN","NU_NOTA_CH","NU_NOTA_MT","NU_NOTA_LC","NU_NOTA_REDACAO"]
dados[provas].describe()

dados[provas].sum()

dados[provas].sum(axis=1)

dados["NU_NOTA_TOTAL"] = dados[provas].sum(axis=1)
dados.head()

plt.figure(figsize=(10,8))
sns.boxplot(x="Q006", y="NU_NOTA_TOTAL", data = dados, order = renda_ordenada)
plt.title("Boxplot das notas Totais")

sns.displot(dados, x ="NU_NOTA_TOTAL")

provas = ["NU_NOTA_CN","NU_NOTA_CH","NU_NOTA_MT","NU_NOTA_LC","NU_NOTA_REDACAO"]
provas.append("NU_NOTA_TOTAL")
dados[provas].query("NU_NOTA_TOTAL == 0")

































