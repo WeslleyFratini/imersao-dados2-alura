import pandas as pd
fonte = "https://github.com/alura-cursos/imersao-dados-2-2020/blob/master/MICRODADOS_ENEM_2019_SAMPLE_43278.csv?raw=true"
dados = pd.read_csv(fonte)
dados.head()

dados.shape

dados.columns.values

dados[["SG_UF_RESIDENCIA", "Q025"]]

dados["SG_UF_RESIDENCIA"]dados["SG_UF_RESIDENCIA"]

dados["SG_UF_RESIDENCIA"]

dados["NU_IDADE"].value_counts().sort_index()

//criar historgrama
dados["NU_IDADE"].hist() 

//tamanho histograma
dados["NU_IDADE"].hist(bins = 20, figsize = (10, 8)) 

dados["IN_TREINEIRO"]

dados.query("IN_TREINEIRO == 1")

dados.query("IN_TREINEIRO == 1")["IN_TREINEIRO"]

dados.query("IN_TREINEIRO != 1")["IN_TREINEIRO"]

dados.query("IN_TREINEIRO == 1")["NU_IDADE"]

//ordenar por idade
dados.query("IN_TREINEIRO == 1")["NU_IDADE"].value_counts().sort_index()

//histograma notas reda��o
dados["NU_NOTA_REDACAO"].hist(bins = 20)
dados["NU_NOTA_REDACAO"].hist(bins = 20, figsize=(20,6))

dados["NU_NOTA_LC"].hist(bins = 20, figsize=(20,6))

dados["NU_NOTA_REDACAO"].mean()

dados["NU_NOTA_REDACAO"].std()

//dados das provas
provas = ["NU_NOTA_CN","NU_NOTA_CH","NU_NOTA_MT","NU_NOTA_LC","NU_NOTA_REDACAO"]
dados[provas].describe()

dados["NU_NOTA_LC"].quantile(0.1)

dados["NU_NOTA_LC"].plot.box(grid = True, figsize=(8,6))

dados[provas].boxplot(grid=True, figsize= (10,8))

